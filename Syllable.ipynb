{
 "cells": [
  {
   "cell_type": "code",
   "execution_count": 2,
   "metadata": {},
   "outputs": [],
   "source": [
    "from syllable_counters import syllable_count_sentence_en, syllable_count_sentence_jp\n",
    "import pandas as pd\n",
    "import numpy as np"
   ]
  },
  {
   "cell_type": "code",
   "execution_count": 3,
   "metadata": {},
   "outputs": [],
   "source": [
    "df = pd.read_csv('data/raw', delimiter='\\t', header=None)\n",
    "df.columns = ['en', 'jp']"
   ]
  },
  {
   "cell_type": "code",
   "execution_count": 4,
   "metadata": {},
   "outputs": [],
   "source": [
    "df['en_syllables'] = df.en.apply(lambda x: syllable_count_sentence_en(x))"
   ]
  },
  {
   "cell_type": "code",
   "execution_count": 6,
   "metadata": {},
   "outputs": [],
   "source": [
    "df['jp_syllables'] = df.jp.apply(lambda x: syllable_count_sentence_jp(x))"
   ]
  },
  {
   "cell_type": "code",
   "execution_count": 11,
   "metadata": {},
   "outputs": [
    {
     "data": {
      "text/html": [
       "<div>\n",
       "<style scoped>\n",
       "    .dataframe tbody tr th:only-of-type {\n",
       "        vertical-align: middle;\n",
       "    }\n",
       "\n",
       "    .dataframe tbody tr th {\n",
       "        vertical-align: top;\n",
       "    }\n",
       "\n",
       "    .dataframe thead th {\n",
       "        text-align: right;\n",
       "    }\n",
       "</style>\n",
       "<table border=\"1\" class=\"dataframe\">\n",
       "  <thead>\n",
       "    <tr style=\"text-align: right;\">\n",
       "      <th></th>\n",
       "      <th>en</th>\n",
       "      <th>jp</th>\n",
       "      <th>en_syllables</th>\n",
       "      <th>jp_syllables</th>\n",
       "      <th>en_words</th>\n",
       "      <th>jp_words</th>\n",
       "      <th>en_letters</th>\n",
       "      <th>jp_letters</th>\n",
       "    </tr>\n",
       "  </thead>\n",
       "  <tbody>\n",
       "    <tr>\n",
       "      <th>0</th>\n",
       "      <td>you are back, aren't you, harold?</td>\n",
       "      <td>あなたは戻ったのね ハロルド?</td>\n",
       "      <td>8</td>\n",
       "      <td>14</td>\n",
       "      <td>6</td>\n",
       "      <td>15</td>\n",
       "      <td>33</td>\n",
       "      <td>15</td>\n",
       "    </tr>\n",
       "    <tr>\n",
       "      <th>1</th>\n",
       "      <td>my opponent is shark.</td>\n",
       "      <td>俺の相手は シャークだ。</td>\n",
       "      <td>6</td>\n",
       "      <td>10</td>\n",
       "      <td>4</td>\n",
       "      <td>12</td>\n",
       "      <td>21</td>\n",
       "      <td>12</td>\n",
       "    </tr>\n",
       "    <tr>\n",
       "      <th>2</th>\n",
       "      <td>this is one thing in exchange for another.</td>\n",
       "      <td>引き換えだ ある事とある物の</td>\n",
       "      <td>11</td>\n",
       "      <td>15</td>\n",
       "      <td>8</td>\n",
       "      <td>14</td>\n",
       "      <td>42</td>\n",
       "      <td>14</td>\n",
       "    </tr>\n",
       "    <tr>\n",
       "      <th>3</th>\n",
       "      <td>yeah, i'm fine.</td>\n",
       "      <td>もういいよ ごちそうさま ううん</td>\n",
       "      <td>3</td>\n",
       "      <td>12</td>\n",
       "      <td>3</td>\n",
       "      <td>16</td>\n",
       "      <td>15</td>\n",
       "      <td>16</td>\n",
       "    </tr>\n",
       "    <tr>\n",
       "      <th>4</th>\n",
       "      <td>don't come to the office anymore. don't call m...</td>\n",
       "      <td>もう会社には来ないでくれ 電話もするな</td>\n",
       "      <td>14</td>\n",
       "      <td>19</td>\n",
       "      <td>10</td>\n",
       "      <td>19</td>\n",
       "      <td>55</td>\n",
       "      <td>19</td>\n",
       "    </tr>\n",
       "    <tr>\n",
       "      <th>...</th>\n",
       "      <td>...</td>\n",
       "      <td>...</td>\n",
       "      <td>...</td>\n",
       "      <td>...</td>\n",
       "      <td>...</td>\n",
       "      <td>...</td>\n",
       "      <td>...</td>\n",
       "      <td>...</td>\n",
       "    </tr>\n",
       "    <tr>\n",
       "      <th>2698097</th>\n",
       "      <td>what good would that have done?</td>\n",
       "      <td>知って何の意味がある?</td>\n",
       "      <td>6</td>\n",
       "      <td>8</td>\n",
       "      <td>6</td>\n",
       "      <td>11</td>\n",
       "      <td>31</td>\n",
       "      <td>11</td>\n",
       "    </tr>\n",
       "    <tr>\n",
       "      <th>2698098</th>\n",
       "      <td>when ichinosukesan rushed over to ninosukesan..</td>\n",
       "      <td>二之助さんに駆け寄った 一之助さんは</td>\n",
       "      <td>16</td>\n",
       "      <td>21</td>\n",
       "      <td>6</td>\n",
       "      <td>18</td>\n",
       "      <td>47</td>\n",
       "      <td>18</td>\n",
       "    </tr>\n",
       "    <tr>\n",
       "      <th>2698099</th>\n",
       "      <td>your words are so encouraging.</td>\n",
       "      <td>そういった お言葉を力に...。</td>\n",
       "      <td>8</td>\n",
       "      <td>13</td>\n",
       "      <td>5</td>\n",
       "      <td>16</td>\n",
       "      <td>30</td>\n",
       "      <td>16</td>\n",
       "    </tr>\n",
       "    <tr>\n",
       "      <th>2698100</th>\n",
       "      <td>goodbye, george.</td>\n",
       "      <td>切るぞ</td>\n",
       "      <td>3</td>\n",
       "      <td>3</td>\n",
       "      <td>2</td>\n",
       "      <td>3</td>\n",
       "      <td>16</td>\n",
       "      <td>3</td>\n",
       "    </tr>\n",
       "    <tr>\n",
       "      <th>2698101</th>\n",
       "      <td>do you want to hear it?</td>\n",
       "      <td>聞きたくなければ言わないけれど。</td>\n",
       "      <td>6</td>\n",
       "      <td>15</td>\n",
       "      <td>6</td>\n",
       "      <td>16</td>\n",
       "      <td>23</td>\n",
       "      <td>16</td>\n",
       "    </tr>\n",
       "  </tbody>\n",
       "</table>\n",
       "<p>2698102 rows × 8 columns</p>\n",
       "</div>"
      ],
      "text/plain": [
       "                                                        en  \\\n",
       "0                        you are back, aren't you, harold?   \n",
       "1                                    my opponent is shark.   \n",
       "2               this is one thing in exchange for another.   \n",
       "3                                          yeah, i'm fine.   \n",
       "4        don't come to the office anymore. don't call m...   \n",
       "...                                                    ...   \n",
       "2698097                    what good would that have done?   \n",
       "2698098    when ichinosukesan rushed over to ninosukesan..   \n",
       "2698099                     your words are so encouraging.   \n",
       "2698100                                   goodbye, george.   \n",
       "2698101                            do you want to hear it?   \n",
       "\n",
       "                          jp  en_syllables  jp_syllables  en_words  jp_words  \\\n",
       "0            あなたは戻ったのね ハロルド?             8            14         6        15   \n",
       "1               俺の相手は シャークだ。             6            10         4        12   \n",
       "2             引き換えだ ある事とある物の            11            15         8        14   \n",
       "3           もういいよ ごちそうさま ううん             3            12         3        16   \n",
       "4        もう会社には来ないでくれ 電話もするな            14            19        10        19   \n",
       "...                      ...           ...           ...       ...       ...   \n",
       "2698097          知って何の意味がある?             6             8         6        11   \n",
       "2698098   二之助さんに駆け寄った 一之助さんは            16            21         6        18   \n",
       "2698099     そういった お言葉を力に...。             8            13         5        16   \n",
       "2698100                  切るぞ             3             3         2         3   \n",
       "2698101     聞きたくなければ言わないけれど。             6            15         6        16   \n",
       "\n",
       "         en_letters  jp_letters  \n",
       "0                33          15  \n",
       "1                21          12  \n",
       "2                42          14  \n",
       "3                15          16  \n",
       "4                55          19  \n",
       "...             ...         ...  \n",
       "2698097          31          11  \n",
       "2698098          47          18  \n",
       "2698099          30          16  \n",
       "2698100          16           3  \n",
       "2698101          23          16  \n",
       "\n",
       "[2698102 rows x 8 columns]"
      ]
     },
     "execution_count": 11,
     "metadata": {},
     "output_type": "execute_result"
    }
   ],
   "source": [
    "df"
   ]
  },
  {
   "cell_type": "code",
   "execution_count": 8,
   "metadata": {},
   "outputs": [],
   "source": [
    "df['en_words'] = df.en.apply(lambda x: x.count(' ')+1)\n",
    "df['jp_words'] = df.jp.apply(lambda x: len(x))\n",
    "df['en_letters'] = df.en.apply(lambda x: len(x))\n",
    "df['jp_letters'] = df.jp.apply(lambda x: len(x))"
   ]
  },
  {
   "cell_type": "code",
   "execution_count": 9,
   "metadata": {},
   "outputs": [],
   "source": [
    "en_syl_freq = df.groupby('en_syllables').en.count()\n",
    "jp_syl_freq = df.groupby('jp_syllables').jp.count()\n",
    "\n",
    "en_wrd_freq = df.groupby('en_words').en.count()\n",
    "jp_wrd_freq = df.groupby('jp_words').jp.count()\n",
    "\n",
    "en_let_freq = df.groupby('en_letters').en.count()\n",
    "jp_let_freq = df.groupby('jp_letters').jp.count()"
   ]
  },
  {
   "cell_type": "code",
   "execution_count": 10,
   "metadata": {},
   "outputs": [
    {
     "data": {
      "text/html": [
       "<div>\n",
       "<style scoped>\n",
       "    .dataframe tbody tr th:only-of-type {\n",
       "        vertical-align: middle;\n",
       "    }\n",
       "\n",
       "    .dataframe tbody tr th {\n",
       "        vertical-align: top;\n",
       "    }\n",
       "\n",
       "    .dataframe thead th {\n",
       "        text-align: right;\n",
       "    }\n",
       "</style>\n",
       "<table border=\"1\" class=\"dataframe\">\n",
       "  <thead>\n",
       "    <tr style=\"text-align: right;\">\n",
       "      <th></th>\n",
       "      <th>en</th>\n",
       "      <th>jp</th>\n",
       "      <th>en_syllables</th>\n",
       "      <th>jp_syllables</th>\n",
       "      <th>en_words</th>\n",
       "      <th>jp_words</th>\n",
       "      <th>en_letters</th>\n",
       "      <th>jp_letters</th>\n",
       "    </tr>\n",
       "  </thead>\n",
       "  <tbody>\n",
       "    <tr>\n",
       "      <th>0</th>\n",
       "      <td>you are back, aren't you, harold?</td>\n",
       "      <td>あなたは戻ったのね ハロルド?</td>\n",
       "      <td>8</td>\n",
       "      <td>14</td>\n",
       "      <td>6</td>\n",
       "      <td>15</td>\n",
       "      <td>33</td>\n",
       "      <td>15</td>\n",
       "    </tr>\n",
       "    <tr>\n",
       "      <th>1</th>\n",
       "      <td>my opponent is shark.</td>\n",
       "      <td>俺の相手は シャークだ。</td>\n",
       "      <td>6</td>\n",
       "      <td>10</td>\n",
       "      <td>4</td>\n",
       "      <td>12</td>\n",
       "      <td>21</td>\n",
       "      <td>12</td>\n",
       "    </tr>\n",
       "    <tr>\n",
       "      <th>2</th>\n",
       "      <td>this is one thing in exchange for another.</td>\n",
       "      <td>引き換えだ ある事とある物の</td>\n",
       "      <td>11</td>\n",
       "      <td>15</td>\n",
       "      <td>8</td>\n",
       "      <td>14</td>\n",
       "      <td>42</td>\n",
       "      <td>14</td>\n",
       "    </tr>\n",
       "    <tr>\n",
       "      <th>3</th>\n",
       "      <td>yeah, i'm fine.</td>\n",
       "      <td>もういいよ ごちそうさま ううん</td>\n",
       "      <td>3</td>\n",
       "      <td>12</td>\n",
       "      <td>3</td>\n",
       "      <td>16</td>\n",
       "      <td>15</td>\n",
       "      <td>16</td>\n",
       "    </tr>\n",
       "    <tr>\n",
       "      <th>4</th>\n",
       "      <td>don't come to the office anymore. don't call m...</td>\n",
       "      <td>もう会社には来ないでくれ 電話もするな</td>\n",
       "      <td>14</td>\n",
       "      <td>19</td>\n",
       "      <td>10</td>\n",
       "      <td>19</td>\n",
       "      <td>55</td>\n",
       "      <td>19</td>\n",
       "    </tr>\n",
       "    <tr>\n",
       "      <th>...</th>\n",
       "      <td>...</td>\n",
       "      <td>...</td>\n",
       "      <td>...</td>\n",
       "      <td>...</td>\n",
       "      <td>...</td>\n",
       "      <td>...</td>\n",
       "      <td>...</td>\n",
       "      <td>...</td>\n",
       "    </tr>\n",
       "    <tr>\n",
       "      <th>2698097</th>\n",
       "      <td>what good would that have done?</td>\n",
       "      <td>知って何の意味がある?</td>\n",
       "      <td>6</td>\n",
       "      <td>8</td>\n",
       "      <td>6</td>\n",
       "      <td>11</td>\n",
       "      <td>31</td>\n",
       "      <td>11</td>\n",
       "    </tr>\n",
       "    <tr>\n",
       "      <th>2698098</th>\n",
       "      <td>when ichinosukesan rushed over to ninosukesan..</td>\n",
       "      <td>二之助さんに駆け寄った 一之助さんは</td>\n",
       "      <td>16</td>\n",
       "      <td>21</td>\n",
       "      <td>6</td>\n",
       "      <td>18</td>\n",
       "      <td>47</td>\n",
       "      <td>18</td>\n",
       "    </tr>\n",
       "    <tr>\n",
       "      <th>2698099</th>\n",
       "      <td>your words are so encouraging.</td>\n",
       "      <td>そういった お言葉を力に...。</td>\n",
       "      <td>8</td>\n",
       "      <td>13</td>\n",
       "      <td>5</td>\n",
       "      <td>16</td>\n",
       "      <td>30</td>\n",
       "      <td>16</td>\n",
       "    </tr>\n",
       "    <tr>\n",
       "      <th>2698100</th>\n",
       "      <td>goodbye, george.</td>\n",
       "      <td>切るぞ</td>\n",
       "      <td>3</td>\n",
       "      <td>3</td>\n",
       "      <td>2</td>\n",
       "      <td>3</td>\n",
       "      <td>16</td>\n",
       "      <td>3</td>\n",
       "    </tr>\n",
       "    <tr>\n",
       "      <th>2698101</th>\n",
       "      <td>do you want to hear it?</td>\n",
       "      <td>聞きたくなければ言わないけれど。</td>\n",
       "      <td>6</td>\n",
       "      <td>15</td>\n",
       "      <td>6</td>\n",
       "      <td>16</td>\n",
       "      <td>23</td>\n",
       "      <td>16</td>\n",
       "    </tr>\n",
       "  </tbody>\n",
       "</table>\n",
       "<p>2698102 rows × 8 columns</p>\n",
       "</div>"
      ],
      "text/plain": [
       "                                                        en  \\\n",
       "0                        you are back, aren't you, harold?   \n",
       "1                                    my opponent is shark.   \n",
       "2               this is one thing in exchange for another.   \n",
       "3                                          yeah, i'm fine.   \n",
       "4        don't come to the office anymore. don't call m...   \n",
       "...                                                    ...   \n",
       "2698097                    what good would that have done?   \n",
       "2698098    when ichinosukesan rushed over to ninosukesan..   \n",
       "2698099                     your words are so encouraging.   \n",
       "2698100                                   goodbye, george.   \n",
       "2698101                            do you want to hear it?   \n",
       "\n",
       "                          jp  en_syllables  jp_syllables  en_words  jp_words  \\\n",
       "0            あなたは戻ったのね ハロルド?             8            14         6        15   \n",
       "1               俺の相手は シャークだ。             6            10         4        12   \n",
       "2             引き換えだ ある事とある物の            11            15         8        14   \n",
       "3           もういいよ ごちそうさま ううん             3            12         3        16   \n",
       "4        もう会社には来ないでくれ 電話もするな            14            19        10        19   \n",
       "...                      ...           ...           ...       ...       ...   \n",
       "2698097          知って何の意味がある?             6             8         6        11   \n",
       "2698098   二之助さんに駆け寄った 一之助さんは            16            21         6        18   \n",
       "2698099     そういった お言葉を力に...。             8            13         5        16   \n",
       "2698100                  切るぞ             3             3         2         3   \n",
       "2698101     聞きたくなければ言わないけれど。             6            15         6        16   \n",
       "\n",
       "         en_letters  jp_letters  \n",
       "0                33          15  \n",
       "1                21          12  \n",
       "2                42          14  \n",
       "3                15          16  \n",
       "4                55          19  \n",
       "...             ...         ...  \n",
       "2698097          31          11  \n",
       "2698098          47          18  \n",
       "2698099          30          16  \n",
       "2698100          16           3  \n",
       "2698101          23          16  \n",
       "\n",
       "[2698102 rows x 8 columns]"
      ]
     },
     "execution_count": 10,
     "metadata": {},
     "output_type": "execute_result"
    }
   ],
   "source": [
    "df"
   ]
  },
  {
   "cell_type": "code",
   "execution_count": 18,
   "metadata": {},
   "outputs": [
    {
     "data": {
      "image/png": "[encoded data removed]",
      "text/plain": [
       "<Figure size 1152x648 with 1 Axes>"
      ]
     },
     "metadata": {
      "needs_background": "light"
     },
     "output_type": "display_data"
    }
   ],
   "source": [
    "res = pd.DataFrame(jp_syl_freq[:100]).join(en_syl_freq[:100]).plot(figsize=(16, 9), grid=True)"
   ]
  },
  {
   "cell_type": "code",
   "execution_count": 19,
   "metadata": {},
   "outputs": [
    {
     "data": {
      "text/plain": [
       "<matplotlib.axes._subplots.AxesSubplot at 0x11ce95b70>"
      ]
     },
     "execution_count": 19,
     "metadata": {},
     "output_type": "execute_result"
    },
    {
     "data": {
      "image/png": "[encoded data removed]",
      "text/plain": [
       "<Figure size 1152x648 with 1 Axes>"
      ]
     },
     "metadata": {
      "needs_background": "light"
     },
     "output_type": "display_data"
    }
   ],
   "source": [
    "pd.DataFrame(jp_let_freq[:200]).join(en_let_freq[:200]).plot(figsize=(16, 9), grid=True)"
   ]
  },
  {
   "cell_type": "code",
   "execution_count": 20,
   "metadata": {},
   "outputs": [],
   "source": [
    "ratios = (df.jp_syllables / df.en_syllables).replace([np.inf, -np.inf], np.nan).dropna()"
   ]
  },
  {
   "cell_type": "code",
   "execution_count": 21,
   "metadata": {},
   "outputs": [
    {
     "data": {
      "text/plain": [
       "0          1.750000\n",
       "1          1.666667\n",
       "2          1.363636\n",
       "3          4.000000\n",
       "4          1.357143\n",
       "             ...   \n",
       "2698097    1.333333\n",
       "2698098    1.312500\n",
       "2698099    1.625000\n",
       "2698100    1.000000\n",
       "2698101    2.500000\n",
       "Length: 2698029, dtype: float64"
      ]
     },
     "execution_count": 21,
     "metadata": {},
     "output_type": "execute_result"
    }
   ],
   "source": [
    "(df.jp_syllables / df.en_syllables).replace([np.inf, -np.inf], np.nan).dropna().plot()"
   ]
  },
  {
   "cell_type": "code",
   "execution_count": 62,
   "metadata": {},
   "outputs": [],
   "source": [
    "buckets = [i*0.2 for i in range(50)]\n",
    "a = pd.cut(ratios, buckets)"
   ]
  },
  {
   "cell_type": "code",
   "execution_count": 63,
   "metadata": {},
   "outputs": [
    {
     "data": {
      "text/plain": [
       "<matplotlib.axes._subplots.AxesSubplot at 0x16b4ab588>"
      ]
     },
     "execution_count": 63,
     "metadata": {},
     "output_type": "execute_result"
    },
    {
     "data": {
      "image/png": "[encoded data removed]",
      "text/plain": [
       "<Figure size 1152x648 with 1 Axes>"
      ]
     },
     "metadata": {
      "needs_background": "light"
     },
     "output_type": "display_data"
    }
   ],
   "source": [
    "pd.DataFrame(a, columns=['bucket']).groupby('bucket').bucket.count().plot(figsize=(16, 9))"
   ]
  },
  {
   "cell_type": "code",
   "execution_count": 59,
   "metadata": {},
   "outputs": [
    {
     "data": {
      "text/plain": [
       "2.020046123166394"
      ]
     },
     "execution_count": 59,
     "metadata": {},
     "output_type": "execute_result"
    }
   ],
   "source": [
    "ratios.mean()"
   ]
  },
  {
   "cell_type": "code",
   "execution_count": null,
   "metadata": {},
   "outputs": [],
   "source": []
  }
 ],
 "metadata": {
  "kernelspec": {
   "display_name": "Python 3",
   "language": "python",
   "name": "python3"
  },
  "language_info": {
   "codemirror_mode": {
    "name": "ipython",
    "version": 3
   },
   "file_extension": ".py",
   "mimetype": "text/x-python",
   "name": "python",
   "nbconvert_exporter": "python",
   "pygments_lexer": "ipython3",
   "version": "3.6.8"
  }
 },
 "nbformat": 4,
 "nbformat_minor": 4
}
